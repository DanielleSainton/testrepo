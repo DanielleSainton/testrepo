{
 "cells": [
  {
   "cell_type": "markdown",
   "id": "44c5e448-d357-4f26-bd6d-66d783d30a1f",
   "metadata": {},
   "source": [
    "# Data Science Tools and Ecosystem"
   ]
  },
  {
   "cell_type": "markdown",
   "id": "80c301be-8de3-4c7e-a615-7073662cdc0c",
   "metadata": {},
   "source": [
    "In this notebook, Data Science Tools and Ecosystem are summarized"
   ]
  },
  {
   "cell_type": "markdown",
   "id": "2cce3aee-2d73-46ec-9913-ecfbff033827",
   "metadata": {},
   "source": [
    "**Objectives:**\n",
    "- List popular languages for Data Science\n",
    "- List commonly used libraries for Data Scientists\n",
    "- Table of Data Science Tools\n",
    "- Evaluating mathematical expressions"
   ]
  },
  {
   "cell_type": "markdown",
   "id": "6460d212-933c-4198-8ed0-d368babb7d5f",
   "metadata": {},
   "source": [
    "Some of the popular languages that Data Scientists use are:\n",
    "1. Java\n",
    "2. Scala\n",
    "3. Python"
   ]
  },
  {
   "cell_type": "markdown",
   "id": "d9304f0e-cb8d-47ae-aba1-6ff59a9976a4",
   "metadata": {},
   "source": [
    "Some of the commonly used libraries used by Data Scientists include:\n",
    "1. Pandas\n",
    "2. tidyverse\n",
    "3. NumPy\n",
    "4. Matplotlib"
   ]
  },
  {
   "cell_type": "markdown",
   "id": "54e58477-de3d-42e6-b09e-b92363739fe1",
   "metadata": {},
   "source": [
    "| Data Science Tools |\n",
    "| -------------|\n",
    "| VS Code |\n",
    "| R |\n",
    "| RStudio |"
   ]
  },
  {
   "cell_type": "markdown",
   "id": "cbdbeaeb-cfbc-401b-810f-4be7f743eff7",
   "metadata": {},
   "source": [
    "### Below are a few examples of evaluating expressions in Python:"
   ]
  },
  {
   "cell_type": "markdown",
   "id": "cf201455-744d-43fb-bb67-4c522cb96d74",
   "metadata": {},
   "source": [
    "This is a simple arithmetic expression to multiply then add integers"
   ]
  },
  {
   "cell_type": "code",
   "execution_count": 13,
   "id": "13ac07e3-0605-4612-a4e1-69be6d668a72",
   "metadata": {},
   "outputs": [
    {
     "data": {
      "text/plain": [
       "17"
      ]
     },
     "execution_count": 13,
     "metadata": {},
     "output_type": "execute_result"
    }
   ],
   "source": [
    "(3*4)+5"
   ]
  },
  {
   "cell_type": "markdown",
   "id": "e9cedd5e-626a-467f-8f64-90bb5b60fb99",
   "metadata": {},
   "source": [
    "This will convert 200 minutes to hours by dividing by 60:"
   ]
  },
  {
   "cell_type": "code",
   "execution_count": 14,
   "id": "57978caf-9534-42a8-ab56-1401949b24f6",
   "metadata": {},
   "outputs": [
    {
     "data": {
      "text/plain": [
       "3.3333333333333335"
      ]
     },
     "execution_count": 14,
     "metadata": {},
     "output_type": "execute_result"
    }
   ],
   "source": [
    "200/60"
   ]
  },
  {
   "cell_type": "markdown",
   "id": "2901ed57-9658-4831-84d1-157620683415",
   "metadata": {},
   "source": [
    "## Author\n",
    "Danielle A. Sainton"
   ]
  },
  {
   "cell_type": "code",
   "execution_count": null,
   "id": "5695a222-bef0-44ab-b7e8-58dd26c8df0b",
   "metadata": {},
   "outputs": [],
   "source": []
  }
 ],
 "metadata": {
  "kernelspec": {
   "display_name": "Python 3 (ipykernel)",
   "language": "python",
   "name": "python3"
  },
  "language_info": {
   "codemirror_mode": {
    "name": "ipython",
    "version": 3
   },
   "file_extension": ".py",
   "mimetype": "text/x-python",
   "name": "python",
   "nbconvert_exporter": "python",
   "pygments_lexer": "ipython3",
   "version": "3.11.7"
  }
 },
 "nbformat": 4,
 "nbformat_minor": 5
}
